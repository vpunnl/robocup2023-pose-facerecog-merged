{
  "cells": [
    {
      "cell_type": "code",
      "execution_count": 3,
      "metadata": {
        "id": "9hL5ZBRdSfzR"
      },
      "outputs": [],
      "source": [
        "import pandas\n",
        "from keras.models import Sequential\n",
        "from keras.layers import Dense\n",
        "from keras.wrappers.scikit_learn import KerasClassifier\n",
        "from keras.utils import np_utils\n",
        "from sklearn.model_selection import cross_val_score\n",
        "from sklearn.model_selection import KFold\n",
        "from sklearn.preprocessing import LabelEncoder\n",
        "from sklearn.pipeline import Pipeline\n",
        "import numpy as np"
      ]
    },
    {
      "cell_type": "code",
      "execution_count": 4,
      "metadata": {
        "id": "3kV90PUAX5ZJ"
      },
      "outputs": [],
      "source": [
        "num_in = 34\n",
        "num_out = 4\n",
        "\n",
        "csv_file = \"dataset.csv\"\n",
        "save_name = \"first_weight.h5\""
      ]
    },
    {
      "cell_type": "code",
      "execution_count": 5,
      "metadata": {
        "id": "elZM0VmUvygz"
      },
      "outputs": [],
      "source": [
        "# define baseline model\n",
        "def baseline_model():\n",
        "    # create model\n",
        "    model = Sequential()\n",
        "    model.add(Dense(30, input_dim=num_in, activation='relu'))\n",
        "    model.add(Dense(20, activation='relu'))\n",
        "    model.add(Dense(10, activation='relu'))\n",
        "    model.add(Dense(num_out, activation='softmax'))\n",
        "    # Compile model\n",
        "    model.compile(loss='categorical_crossentropy', optimizer='adam', metrics=['accuracy'])\n",
        "    return model\n"
      ]
    },
    {
      "cell_type": "code",
      "execution_count": null,
      "metadata": {
        "id": "d5Y29ZfWSiTR"
      },
      "outputs": [],
      "source": [
        "# # define baseline model\n",
        "# def baseline_model():\n",
        "#     # create model\n",
        "#     model = Sequential()\n",
        "#     model.add(Dense(20, input_dim=15, activation='relu'))\n",
        "#     model.add(Dense(10, input_dim=20, activation='relu'))\n",
        "#     model.add(Dense(num_colors, activation='softmax'))\n",
        "#     # Compile model\n",
        "#     model.compile(loss='categorical_crossentropy', optimizer='adam', metrics=['accuracy'])\n",
        "#     return model\n"
      ]
    },
    {
      "cell_type": "code",
      "execution_count": 6,
      "metadata": {
        "colab": {
          "base_uri": "https://localhost:8080/",
          "height": 385
        },
        "id": "kQojEqkCSjuX",
        "outputId": "e0f51fc3-c7e6-4cce-adf0-0cfdc6ad6529"
      },
      "outputs": [],
      "source": [
        "# load dataset\n",
        "dataframe = pandas.read_csv(csv_file, header=None).sort_values(num_in)\n",
        "dataset = dataframe.values\n",
        "\n",
        "X = dataset[:,0:num_in]\n",
        "Y = dataset[:,num_in]\n",
        "\n",
        "# encode class values as integers\n",
        "encoder = LabelEncoder()\n",
        "encoder.fit(Y)\n",
        "encoded_Y = encoder.transform(Y)\n",
        "# convert integers to dummy variables (i.e. one hot encoded)\n",
        "dummy_y = np_utils.to_categorical(encoded_Y)\n",
        "\n"
      ]
    },
    {
      "cell_type": "code",
      "execution_count": 7,
      "metadata": {
        "colab": {
          "base_uri": "https://localhost:8080/"
        },
        "id": "Mq72IQ9oOSSt",
        "outputId": "29ca60ce-760f-41a1-cc8a-6981e17c01d3"
      },
      "outputs": [
        {
          "data": {
            "text/plain": [
              "array([0, 1, 2, 3])"
            ]
          },
          "execution_count": 7,
          "metadata": {},
          "output_type": "execute_result"
        }
      ],
      "source": [
        "dataframe[num_in].unique()"
      ]
    },
    {
      "cell_type": "code",
      "execution_count": 8,
      "metadata": {
        "colab": {
          "base_uri": "https://localhost:8080/"
        },
        "id": "dRN6U1fPPKDf",
        "outputId": "82620e7b-174f-4265-b3de-6cff78b5502d"
      },
      "outputs": [
        {
          "data": {
            "text/plain": [
              "array([[0.078 , 0.095 , 0.0897, ..., 0.7865, 0.1091, 0.8117],\n",
              "       [0.1112, 0.0986, 0.1255, ..., 0.8138, 0.0495, 0.8056],\n",
              "       [0.1119, 0.099 , 0.1263, ..., 0.8159, 0.0497, 0.8079],\n",
              "       ...,\n",
              "       [0.0705, 0.2408, 0.0792, ..., 0.8941, 0.0791, 0.8765],\n",
              "       [0.0706, 0.247 , 0.079 , ..., 0.8931, 0.0803, 0.8799],\n",
              "       [0.0719, 0.2493, 0.0811, ..., 0.8851, 0.0755, 0.875 ]])"
            ]
          },
          "execution_count": 8,
          "metadata": {},
          "output_type": "execute_result"
        }
      ],
      "source": [
        "X"
      ]
    },
    {
      "cell_type": "code",
      "execution_count": 9,
      "metadata": {
        "colab": {
          "base_uri": "https://localhost:8080/"
        },
        "id": "n9m8uHhGxIAS",
        "outputId": "cf0b762e-4bbe-4895-db95-db56eb72bd57"
      },
      "outputs": [
        {
          "data": {
            "text/plain": [
              "array([0., 0., 0., ..., 3., 3., 3.])"
            ]
          },
          "execution_count": 9,
          "metadata": {},
          "output_type": "execute_result"
        }
      ],
      "source": [
        "Y"
      ]
    },
    {
      "cell_type": "code",
      "execution_count": 10,
      "metadata": {
        "colab": {
          "base_uri": "https://localhost:8080/"
        },
        "id": "GiL-wG0WNq6z",
        "outputId": "cf597671-ad15-456f-c84c-1a04819250a8"
      },
      "outputs": [
        {
          "data": {
            "text/plain": [
              "<bound method NDFrame.head of           0       1       2       3       4       5       6       7      8   \\\n",
              "0     0.0780  0.0950  0.0897  0.0759  0.0677  0.0774  0.1103  0.0934  0.057   \n",
              "427   0.1112  0.0986  0.1255  0.0812  0.1036  0.0791  0.1526  0.0997 -1.000   \n",
              "428   0.1119  0.0990  0.1263  0.0818  0.1044  0.0795  0.1534  0.1010 -1.000   \n",
              "429   0.1129  0.0980  0.1275  0.0812  0.1054  0.0783  0.1544  0.1011 -1.000   \n",
              "430   0.1124  0.0990  0.1270  0.0821  0.1050  0.0791  0.1545  0.1018 -1.000   \n",
              "...      ...     ...     ...     ...     ...     ...     ...     ...    ...   \n",
              "2209  0.0712  0.2429  0.0797  0.2286  0.0651  0.2312  0.1034  0.2389 -1.000   \n",
              "2210  0.0707  0.2432  0.0792  0.2288  0.0646  0.2316  0.1033  0.2392 -1.000   \n",
              "2211  0.0705  0.2408  0.0792  0.2266  0.0641  0.2296  0.1028  0.2382 -1.000   \n",
              "2204  0.0706  0.2470  0.0790  0.2320  0.0643  0.2355  0.1033  0.2415 -1.000   \n",
              "2617  0.0719  0.2493  0.0811  0.2345  0.0649  0.2372  0.1037  0.2458 -1.000   \n",
              "\n",
              "          9   ...      25      26      27      28      29      30      31  \\\n",
              "0     0.0983  ...  0.4248  0.1580  0.5362  0.0952  0.5542  0.1723  0.7865   \n",
              "427  -1.0000  ...  0.4281  0.1177  0.5680  0.0517  0.5670  0.1156  0.8138   \n",
              "428  -1.0000  ...  0.4271  0.1174  0.5698  0.0527  0.5679  0.1158  0.8159   \n",
              "429  -1.0000  ...  0.4260  0.1182  0.5692  0.0535  0.5666  0.1166  0.8153   \n",
              "430  -1.0000  ...  0.4264  0.1177  0.5694  0.0532  0.5671  0.1162  0.8182   \n",
              "...      ...  ...     ...     ...     ...     ...     ...     ...     ...   \n",
              "2209 -1.0000  ...  0.5203  0.1067  0.7169  0.0661  0.7237  0.1128  0.8940   \n",
              "2210 -1.0000  ...  0.5206  0.1064  0.7163  0.0655  0.7229  0.1122  0.8938   \n",
              "2211 -1.0000  ...  0.5219  0.1049  0.7175  0.0649  0.7239  0.1119  0.8941   \n",
              "2204 -1.0000  ...  0.5263  0.1058  0.7170  0.0663  0.7264  0.1098  0.8931   \n",
              "2617 -1.0000  ...  0.5285  0.1039  0.7160  0.0635  0.7279  0.1066  0.8851   \n",
              "\n",
              "          32      33  34  \n",
              "0     0.1091  0.8117   0  \n",
              "427   0.0495  0.8056   0  \n",
              "428   0.0497  0.8079   0  \n",
              "429   0.0495  0.8086   0  \n",
              "430   0.0492  0.8095   0  \n",
              "...      ...     ...  ..  \n",
              "2209  0.0792  0.8799   3  \n",
              "2210  0.0791  0.8785   3  \n",
              "2211  0.0791  0.8765   3  \n",
              "2204  0.0803  0.8799   3  \n",
              "2617  0.0755  0.8750   3  \n",
              "\n",
              "[2618 rows x 35 columns]>"
            ]
          },
          "execution_count": 10,
          "metadata": {},
          "output_type": "execute_result"
        }
      ],
      "source": [
        "dataframe.head"
      ]
    },
    {
      "cell_type": "code",
      "execution_count": 11,
      "metadata": {
        "colab": {
          "base_uri": "https://localhost:8080/"
        },
        "id": "_r_2i0U_zkXp",
        "outputId": "61576e8e-ecb9-40e2-c49e-1921636ff1bf"
      },
      "outputs": [
        {
          "data": {
            "text/plain": [
              "3"
            ]
          },
          "execution_count": 11,
          "metadata": {},
          "output_type": "execute_result"
        }
      ],
      "source": [
        "np.max(encoded_Y)"
      ]
    },
    {
      "cell_type": "code",
      "execution_count": 13,
      "metadata": {
        "colab": {
          "base_uri": "https://localhost:8080/"
        },
        "id": "EuC2Dd0_aVlZ",
        "outputId": "acc9fba8-e36f-4d23-ecae-8ee5fc20f579"
      },
      "outputs": [
        {
          "data": {
            "text/plain": [
              "array([[1., 0., 0., 0.],\n",
              "       [1., 0., 0., 0.],\n",
              "       [1., 0., 0., 0.],\n",
              "       ...,\n",
              "       [0., 0., 0., 1.],\n",
              "       [0., 0., 0., 1.],\n",
              "       [0., 0., 0., 1.]], dtype=float32)"
            ]
          },
          "execution_count": 13,
          "metadata": {},
          "output_type": "execute_result"
        }
      ],
      "source": [
        "dummy_y"
      ]
    },
    {
      "cell_type": "code",
      "execution_count": 12,
      "metadata": {
        "colab": {
          "base_uri": "https://localhost:8080/"
        },
        "id": "-36wAgGAYUhN",
        "outputId": "9b499e71-a9e5-44fe-fde5-5564ae7054ec"
      },
      "outputs": [
        {
          "name": "stderr",
          "output_type": "stream",
          "text": [
            "2023-06-10 18:15:58.131479: I tensorflow/compiler/xla/stream_executor/cuda/cuda_gpu_executor.cc:996] successful NUMA node read from SysFS had negative value (-1), but there must be at least one NUMA node, so returning NUMA node zero. See more at https://github.com/torvalds/linux/blob/v6.0/Documentation/ABI/testing/sysfs-bus-pci#L344-L355\n",
            "2023-06-10 18:15:58.146827: W tensorflow/core/common_runtime/gpu/gpu_device.cc:1956] Cannot dlopen some GPU libraries. Please make sure the missing libraries mentioned above are installed properly if you would like to use GPU. Follow the guide at https://www.tensorflow.org/install/gpu for how to download and setup the required libraries for your platform.\n",
            "Skipping registering GPU devices...\n"
          ]
        },
        {
          "data": {
            "text/plain": [
              "<keras.callbacks.History at 0x7f05080adeb0>"
            ]
          },
          "execution_count": 12,
          "metadata": {},
          "output_type": "execute_result"
        }
      ],
      "source": [
        "m = baseline_model()\n",
        "m.fit(X, dummy_y, epochs = 300, batch_size = 50, verbose = 0)\n"
      ]
    },
    {
      "cell_type": "code",
      "execution_count": 13,
      "metadata": {
        "colab": {
          "base_uri": "https://localhost:8080/"
        },
        "id": "CMAEnumIYmuB",
        "outputId": "cf99c829-10ce-46f3-c533-279bdb1d2676"
      },
      "outputs": [
        {
          "name": "stdout",
          "output_type": "stream",
          "text": [
            "accuracy: 100.00%\n"
          ]
        }
      ],
      "source": [
        "scores = m.evaluate(X, dummy_y, verbose=0)\n",
        "print(\"%s: %.2f%%\" % (m.metrics_names[1], scores[1]*100))"
      ]
    },
    {
      "cell_type": "code",
      "execution_count": 14,
      "metadata": {
        "colab": {
          "base_uri": "https://localhost:8080/"
        },
        "id": "KMUu6WixZbLW",
        "outputId": "c4654096-766b-4f19-d570-1204ab06f1c7"
      },
      "outputs": [
        {
          "name": "stdout",
          "output_type": "stream",
          "text": [
            "82/82 [==============================] - 0s 345us/step\n"
          ]
        },
        {
          "data": {
            "text/plain": [
              "array([0, 0, 0, ..., 3, 3, 3])"
            ]
          },
          "execution_count": 14,
          "metadata": {},
          "output_type": "execute_result"
        }
      ],
      "source": [
        "predictions = m.predict(X)\n",
        "np.argmax(predictions, axis=1)"
      ]
    },
    {
      "cell_type": "code",
      "execution_count": 15,
      "metadata": {
        "colab": {
          "base_uri": "https://localhost:8080/"
        },
        "id": "ez0UJ-OQaT53",
        "outputId": "3c5050f1-190c-47ce-c703-f78cd2ace6c4"
      },
      "outputs": [
        {
          "name": "stdout",
          "output_type": "stream",
          "text": [
            "1/1 [==============================] - 0s 18ms/step\n",
            "[[1.2380297e-02 1.2704403e-20 9.8761976e-01 5.6451491e-18]]\n"
          ]
        },
        {
          "data": {
            "text/plain": [
              "array([2])"
            ]
          },
          "execution_count": 15,
          "metadata": {},
          "output_type": "execute_result"
        }
      ],
      "source": [
        "a = [[0.3728, 0.2994, 0.4249, 0.2303, 0.3271, 0.2439, 0.5126, 0.2638, 0.28, 0.2872, -1.0, -1.0, -1.0, -1.0, -1.0, -1.0, -1.0, -1.0, -1.0, -1.0, -1.0, -1.0, -1.0, -1.0, -1.0, -1.0, -1.0, -1.0, -1.0, -1.0, -1.0, -1.0, -1.0, -1.0]]\n",
        "\n",
        "p = m.predict(a)\n",
        "print(p)\n",
        "np.argmax(p, axis=1)"
      ]
    },
    {
      "cell_type": "code",
      "execution_count": 16,
      "metadata": {
        "colab": {
          "base_uri": "https://localhost:8080/"
        },
        "id": "peGpxfNOsVZa",
        "outputId": "f5737fd5-8651-4704-b62b-b7d382ae655e"
      },
      "outputs": [],
      "source": [
        "m.save(save_name)"
      ]
    },
    {
      "cell_type": "code",
      "execution_count": null,
      "metadata": {
        "id": "6DGWV4essqBk"
      },
      "outputs": [],
      "source": [
        "from keras import models"
      ]
    },
    {
      "cell_type": "code",
      "execution_count": null,
      "metadata": {
        "id": "9qDU9LI0sj8-"
      },
      "outputs": [],
      "source": [
        "reconstructed_model = models.load_model(save_name)\n"
      ]
    },
    {
      "cell_type": "code",
      "execution_count": null,
      "metadata": {
        "colab": {
          "base_uri": "https://localhost:8080/",
          "height": 222
        },
        "id": "SDrDG3IptGjm",
        "outputId": "456fbce6-b671-46e2-c0c5-f9f7979d72a1"
      },
      "outputs": [
        {
          "ename": "NameError",
          "evalue": "ignored",
          "output_type": "error",
          "traceback": [
            "\u001b[0;31m---------------------------------------------------------------------------\u001b[0m",
            "\u001b[0;31mNameError\u001b[0m                                 Traceback (most recent call last)",
            "\u001b[0;32m<ipython-input-52-868f62b2eb94>\u001b[0m in \u001b[0;36m<cell line: 2>\u001b[0;34m()\u001b[0m\n\u001b[1;32m      1\u001b[0m \u001b[0ma\u001b[0m \u001b[0;34m=\u001b[0m \u001b[0;34m[\u001b[0m\u001b[0;34m[\u001b[0m\u001b[0;36m0\u001b[0m\u001b[0;34m,\u001b[0m\u001b[0;36m0\u001b[0m\u001b[0;34m,\u001b[0m\u001b[0;36m0\u001b[0m\u001b[0;34m,\u001b[0m\u001b[0;36m0\u001b[0m\u001b[0;34m,\u001b[0m\u001b[0;36m0\u001b[0m\u001b[0;34m,\u001b[0m\u001b[0;36m0\u001b[0m\u001b[0;34m,\u001b[0m\u001b[0;36m0\u001b[0m\u001b[0;34m,\u001b[0m\u001b[0;36m0\u001b[0m\u001b[0;34m,\u001b[0m\u001b[0;36m0\u001b[0m\u001b[0;34m,\u001b[0m\u001b[0;36m0\u001b[0m\u001b[0;34m,\u001b[0m\u001b[0;36m0\u001b[0m\u001b[0;34m,\u001b[0m\u001b[0;36m0\u001b[0m\u001b[0;34m,\u001b[0m\u001b[0;36m0\u001b[0m\u001b[0;34m,\u001b[0m\u001b[0;36m0\u001b[0m\u001b[0;34m,\u001b[0m\u001b[0;36m0\u001b[0m\u001b[0;34m]\u001b[0m\u001b[0;34m]\u001b[0m\u001b[0;34m\u001b[0m\u001b[0;34m\u001b[0m\u001b[0m\n\u001b[0;32m----> 2\u001b[0;31m \u001b[0;32mfor\u001b[0m \u001b[0mi\u001b[0m \u001b[0;32min\u001b[0m \u001b[0mrange\u001b[0m\u001b[0;34m(\u001b[0m\u001b[0;36m10\u001b[0m\u001b[0;34m)\u001b[0m\u001b[0;34m:\u001b[0m\u001b[0mp\u001b[0m \u001b[0;34m=\u001b[0m \u001b[0mreconstructed_model\u001b[0m\u001b[0;34m.\u001b[0m\u001b[0mpredict\u001b[0m\u001b[0;34m(\u001b[0m\u001b[0ma\u001b[0m\u001b[0;34m)\u001b[0m\u001b[0;34m\u001b[0m\u001b[0;34m\u001b[0m\u001b[0m\n\u001b[0m\u001b[1;32m      3\u001b[0m \u001b[0mprint\u001b[0m\u001b[0;34m(\u001b[0m\u001b[0mp\u001b[0m\u001b[0;34m)\u001b[0m\u001b[0;34m\u001b[0m\u001b[0;34m\u001b[0m\u001b[0m\n\u001b[1;32m      4\u001b[0m \u001b[0mnp\u001b[0m\u001b[0;34m.\u001b[0m\u001b[0margmax\u001b[0m\u001b[0;34m(\u001b[0m\u001b[0mp\u001b[0m\u001b[0;34m,\u001b[0m \u001b[0maxis\u001b[0m\u001b[0;34m=\u001b[0m\u001b[0;36m1\u001b[0m\u001b[0;34m)\u001b[0m\u001b[0;34m\u001b[0m\u001b[0;34m\u001b[0m\u001b[0m\n",
            "\u001b[0;31mNameError\u001b[0m: name 'reconstructed_model' is not defined"
          ]
        }
      ],
      "source": [
        "a = [[0,0,0,0,0,0,0,0,0,0,0,0,0,0,0]]\n",
        "for i in range(10):p = reconstructed_model.predict(a)\n",
        "print(p)\n",
        "np.argmax(p, axis=1)"
      ]
    },
    {
      "cell_type": "code",
      "execution_count": null,
      "metadata": {
        "colab": {
          "base_uri": "https://localhost:8080/"
        },
        "id": "2L0zXVfJuZyd",
        "outputId": "b5aa48e2-a077-4e47-b4a4-76a429e77077"
      },
      "outputs": [
        {
          "name": "stdout",
          "output_type": "stream",
          "text": [
            "  adding: content/wtf_shape_det/ (stored 0%)\n",
            "  adding: content/wtf_shape_det/saved_model.pb (deflated 88%)\n",
            "  adding: content/wtf_shape_det/fingerprint.pb (stored 0%)\n",
            "  adding: content/wtf_shape_det/variables/ (stored 0%)\n",
            "  adding: content/wtf_shape_det/variables/variables.data-00000-of-00001 (deflated 15%)\n",
            "  adding: content/wtf_shape_det/variables/variables.index (deflated 61%)\n",
            "  adding: content/wtf_shape_det/keras_metadata.pb (deflated 88%)\n",
            "  adding: content/wtf_shape_det/assets/ (stored 0%)\n"
          ]
        }
      ],
      "source": [
        "!zip -r /content/wtf_shape_det.zip /content/wtf_shape_det"
      ]
    }
  ],
  "metadata": {
    "colab": {
      "provenance": []
    },
    "kernelspec": {
      "display_name": "Python 3",
      "name": "python3"
    },
    "language_info": {
      "codemirror_mode": {
        "name": "ipython",
        "version": 3
      },
      "file_extension": ".py",
      "mimetype": "text/x-python",
      "name": "python",
      "nbconvert_exporter": "python",
      "pygments_lexer": "ipython3",
      "version": "3.9.16"
    }
  },
  "nbformat": 4,
  "nbformat_minor": 0
}
